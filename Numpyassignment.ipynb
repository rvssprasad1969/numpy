{
 "cells": [
  {
   "cell_type": "code",
   "execution_count": 1,
   "id": "46e6ce46-b2b9-4bbd-a97d-0c927050b7bf",
   "metadata": {},
   "outputs": [
    {
     "data": {
      "text/plain": [
       "\"\\n##1. Explain the purpose and advantages of NumPy in scientific computing and data analysis. How does it \\nenhance Python's capabilities for numerical operations\\nAns. \\nNumPy (Numerical Python) is an open source Python library that's widely used in science and engineering. The NumPy library contains multidimensional array data structures, such as the homogeneous, N-dimensional ndarray , and a large library of functions that operate efficiently on these data structures.\\nIts ability to efficiently handle arrays, perform complex mathematical operations, and seamlessly integrate with other libraries.\\nNumPy arrays provide a significant speed advantage over traditional lists. This is because NumPy is built in C and uses optimized, pre-compiled code for numerical operations. This allows for vectorization, which means operations are applied to all elements in an array without the need for explicit loops in Python.\\n\\n##2.Compare and contrast np.mean() and np.average() functions in NumPy. When would you use one over the \\nother?\\nAns. \\n\\nAverage is recommended for calculation for terms that are close to each other while mean is recommended for calculation for terms that differ from each other and are not closely related.\\n\\nAverage is defined as sum of terms on which we need to perform average divided by the total count of the number of terms.\\nAverage is recommended for calculation for terms that are close to each other.\\nAverage refers to be arithmetic mean of a given value set.\\n\\nMean is the smallest term of all the given terms summed up with the largest term and then the result is divided by 2. as well as dividing sum of terms by total number of terms\\nMean is recommended for calculation for terms that differ from each other and are not closely related.\\nMean can be referred for arithmetic, geometric or harmonic mean of a given value set.\\n\\n##3\\nDescribe the methods for reversing a NumPy array along different axes. Provide examples for 1D and 2D \\narrays.\\n\\nAns.Using flip() function to Reverse a Numpy array\\nthe numpy. flipud() function is used to reverse the order of elements along the first axis (up-down direction) of the array\\n1D= [1,2,3,4]\\n2d= [[1,2,3],[2,4,5]]\\n# 4. How can you determine the data type of elements in a NumPy array? Discuss the importance of data types \\nin memory management and performance\\n\\nUsing dtypes attribute we can determine the data type of emelements in Numpy\\nata types are crucial in efficient memory allocation and management within programming. Each data type requires a different amount of memory, and understanding this is key to writing efficient programs, especially in environments with limited memory resources.\\n5.Define ndarrays in NumPy and explain their key features. How do they differ from standard Python lists\\nAns\\nAn ndarray is a (usually fixed-size) multidimensional container of items of the same type and size. The number of dimensions and items in an array is defined by its shape , which is a tuple of N non-negative integers that specify the sizes of each dimension.\\n6.. Analyze the performance benefits of NumPy arrays over Python lists for large-scale numerical operations.\\nAns. NumPy arrays provide a significant speed advantage over traditional lists. This is because NumPy is built in C and uses optimized, pre-compiled code for numerical operations. This allows for vectorization, which means operations are applied to all elements in an array without the need for explicit loops in Python\\n7 Compare vstack() and hstack() functions in NumPy. Provide examples demonstrating their usage and \\noutput.\\nAns.\\nhstack is used to stack elements in the horizontal direction. stack is used to stack elements in the vertical or horizontal direction.\\n\""
      ]
     },
     "execution_count": 1,
     "metadata": {},
     "output_type": "execute_result"
    }
   ],
   "source": [
    "\"\"\"\n",
    "##1. Explain the purpose and advantages of NumPy in scientific computing and data analysis. How does it \n",
    "enhance Python's capabilities for numerical operations\n",
    "Ans. \n",
    "NumPy (Numerical Python) is an open source Python library that's widely used in science and engineering. The NumPy library contains multidimensional array data structures, such as the homogeneous, N-dimensional ndarray , and a large library of functions that operate efficiently on these data structures.\n",
    "Its ability to efficiently handle arrays, perform complex mathematical operations, and seamlessly integrate with other libraries.\n",
    "NumPy arrays provide a significant speed advantage over traditional lists. This is because NumPy is built in C and uses optimized, pre-compiled code for numerical operations. This allows for vectorization, which means operations are applied to all elements in an array without the need for explicit loops in Python.\n",
    "\n",
    "##2.Compare and contrast np.mean() and np.average() functions in NumPy. When would you use one over the \n",
    "other?\n",
    "Ans. \n",
    "\n",
    "Average is recommended for calculation for terms that are close to each other while mean is recommended for calculation for terms that differ from each other and are not closely related.\n",
    "\n",
    "Average is defined as sum of terms on which we need to perform average divided by the total count of the number of terms.\n",
    "Average is recommended for calculation for terms that are close to each other.\n",
    "Average refers to be arithmetic mean of a given value set.\n",
    "\n",
    "Mean is the smallest term of all the given terms summed up with the largest term and then the result is divided by 2. as well as dividing sum of terms by total number of terms\n",
    "Mean is recommended for calculation for terms that differ from each other and are not closely related.\n",
    "Mean can be referred for arithmetic, geometric or harmonic mean of a given value set.\n",
    "\n",
    "##3\n",
    "Describe the methods for reversing a NumPy array along different axes. Provide examples for 1D and 2D \n",
    "arrays.\n",
    "\n",
    "Ans.Using flip() function to Reverse a Numpy array\n",
    "the numpy. flipud() function is used to reverse the order of elements along the first axis (up-down direction) of the array\n",
    "1D= [1,2,3,4]\n",
    "2d= [[1,2,3],[2,4,5]]\n",
    "# 4. How can you determine the data type of elements in a NumPy array? Discuss the importance of data types \n",
    "in memory management and performance\n",
    "\n",
    "Using dtypes attribute we can determine the data type of emelements in Numpy\n",
    "ata types are crucial in efficient memory allocation and management within programming. Each data type requires a different amount of memory, and understanding this is key to writing efficient programs, especially in environments with limited memory resources.\n",
    "5.Define ndarrays in NumPy and explain their key features. How do they differ from standard Python lists\n",
    "Ans\n",
    "An ndarray is a (usually fixed-size) multidimensional container of items of the same type and size. The number of dimensions and items in an array is defined by its shape , which is a tuple of N non-negative integers that specify the sizes of each dimension.\n",
    "6.. Analyze the performance benefits of NumPy arrays over Python lists for large-scale numerical operations.\n",
    "Ans. NumPy arrays provide a significant speed advantage over traditional lists. This is because NumPy is built in C and uses optimized, pre-compiled code for numerical operations. This allows for vectorization, which means operations are applied to all elements in an array without the need for explicit loops in Python\n",
    "7 Compare vstack() and hstack() functions in NumPy. Provide examples demonstrating their usage and \n",
    "output.\n",
    "Ans.\n",
    "hstack is used to stack elements in the horizontal direction. stack is used to stack elements in the vertical or horizontal direction.\n",
    "\"\"\""
   ]
  },
  {
   "cell_type": "code",
   "execution_count": 3,
   "id": "193077b2-f3e4-4740-be5f-d6aa2c9213e5",
   "metadata": {},
   "outputs": [
    {
     "name": "stdout",
     "output_type": "stream",
     "text": [
      "First array:\n",
      " [1 2 3]\n",
      "Second array:\n",
      " [4 5 6]\n",
      "Stacked array:\n",
      " [[1 2 3]\n",
      " [4 5 6]]\n"
     ]
    }
   ],
   "source": [
    "import numpy as np\n",
    "arr = np.array([1, 2, 3])\n",
    "print(\"First array:\\n\",arr) \n",
    "arr1 = np.array([4, 5, 6])\n",
    "print(\"Second array:\\n\",arr1) \n",
    "arr2 = np.vstack((arr, arr1))\n",
    "print(\"Stacked array:\\n\",arr2) "
   ]
  },
  {
   "cell_type": "code",
   "execution_count": 6,
   "id": "34383877-6207-42ab-87e3-958be71e9885",
   "metadata": {},
   "outputs": [
    {
     "name": "stdout",
     "output_type": "stream",
     "text": [
      "1st Input array : \n",
      " [1 2 3]\n",
      "2nd Input array : \n",
      " [4 5 6]\n",
      "Output horizontally stacked array:\n",
      "  [1 2 3 4 5 6]\n"
     ]
    }
   ],
   "source": [
    "import numpy as geek \n",
    "in_arr1 = geek.array([ 1, 2, 3] ) \n",
    "print (\"1st Input array : \\n\", in_arr1)  \n",
    "in_arr2 = geek.array([ 4, 5, 6] ) \n",
    "print (\"2nd Input array : \\n\", in_arr2)   \n",
    "# Stacking the two arrays horizontally \n",
    "out_arr = geek.hstack((in_arr1, in_arr2)) \n",
    "print (\"Output horizontally stacked array:\\n \", out_arr)"
   ]
  },
  {
   "cell_type": "code",
   "execution_count": null,
   "id": "e971d731-9784-451d-a6d4-ee18ed3d654e",
   "metadata": {},
   "outputs": [],
   "source": [
    "\"\"\"#8. Explain the differences between fliplr() and flipud() methods in NumPy, including their effects on various \n",
    "array dimensions.\n",
    "Ans\n",
    "\n",
    "flip() you can flip the NumPy array ndarray vertically (up-down) or horizontally (left-right). There are also numpy. flipud() specialized for vertical flipping and numpy. fliplr() specialized for horizontal flipping.\n",
    "\"\"\""
   ]
  },
  {
   "cell_type": "code",
   "execution_count": null,
   "id": "c5fec7d0-70cb-4cf4-b05a-6801865a8557",
   "metadata": {},
   "outputs": [],
   "source": [
    "\"\"\"\n",
    "9.Discuss the functionality of the array_split() method in NumPy. How does it handle uneven splits?\n",
    "\n",
    "split() is a function that divides an array into equal parts along a specified axis. The code imports NumPy creates an array of numbers (0-5), and then splits it in half (horizontally) using np. split() . The output shows the original array and the two resulting sub-arrays, each containing 3 elements\n",
    "\"\"\"\n",
    "\"\"\"\n",
    "10.Explain the concepts of vectorization and broadcasting in NumPy. How do they contribute to efficient array \n",
    "operations?\n",
    "\n",
    "Ans. Broadcasting provides a means for vectorizing the array operations so that looping would take place in C. It is a mechanism used by Numpy when it has to perform arithmetic operations on arrays with different shapes. \n",
    "Usual numpy broadcasting operations on two arrays are done on an element-by-element basis.\n",
    "\"\"\"\n"
   ]
  },
  {
   "cell_type": "code",
   "execution_count": 7,
   "id": "aa015217-224e-40a0-8919-1ea5222bced9",
   "metadata": {},
   "outputs": [
    {
     "name": "stdout",
     "output_type": "stream",
     "text": [
      "[[4 4 4]\n",
      " [4 2 4]\n",
      " [2 1 4]]\n"
     ]
    }
   ],
   "source": [
    "# Practical questions\n",
    "#1.. Create a 3x3 NumPy array with random integers between 1 and 100. Then, interchange its rows and columns.\n",
    "import numpy as np\n",
    "arr=np.random.randint(1,5,size=(3,3))\n",
    "print (arr)"
   ]
  },
  {
   "cell_type": "code",
   "execution_count": 8,
   "id": "fffb7e37-23cb-4c8b-bbc8-4a318d6c7ac0",
   "metadata": {},
   "outputs": [
    {
     "data": {
      "text/plain": [
       "array([[4, 4, 4],\n",
       "       [4, 2, 4],\n",
       "       [2, 1, 4]], dtype=int32)"
      ]
     },
     "execution_count": 8,
     "metadata": {},
     "output_type": "execute_result"
    }
   ],
   "source": [
    "arr.reshape(3,3)"
   ]
  },
  {
   "cell_type": "code",
   "execution_count": 9,
   "id": "0345c887-0f36-4cc5-8b9f-641a27d63fcc",
   "metadata": {},
   "outputs": [
    {
     "name": "stdout",
     "output_type": "stream",
     "text": [
      "[[ 1  2  3  4  5]\n",
      " [ 6  7  8  9 10]]\n",
      "[[ 1  2]\n",
      " [ 3  4]\n",
      " [ 5  6]\n",
      " [ 7  8]\n",
      " [ 9 10]]\n"
     ]
    }
   ],
   "source": [
    "#2.Generate a 1D NumPy array with 10 elements. Reshape it into a 2x5 array, then into a 5x2 array.\n",
    "a=np.array([1,2,3,4,5,6,7,8,9,10])\n",
    "print(a.reshape(2,5))\n",
    "print(a.reshape(5,2))"
   ]
  },
  {
   "cell_type": "code",
   "execution_count": 10,
   "id": "dd1a418b-cdd2-49e6-8d3e-8d86690f63ec",
   "metadata": {},
   "outputs": [
    {
     "name": "stdout",
     "output_type": "stream",
     "text": [
      "Original array:\n",
      "[[1. 1. 1. 1.]\n",
      " [1. 1. 1. 1.]\n",
      " [1. 1. 1. 1.]\n",
      " [1. 1. 1. 1.]]\n",
      "0 on the border and 1 inside in the array\n",
      "[[0. 0. 0. 0. 0. 0.]\n",
      " [0. 1. 1. 1. 1. 0.]\n",
      " [0. 1. 1. 1. 1. 0.]\n",
      " [0. 1. 1. 1. 1. 0.]\n",
      " [0. 1. 1. 1. 1. 0.]\n",
      " [0. 0. 0. 0. 0. 0.]]\n"
     ]
    }
   ],
   "source": [
    "#3.  Create a 4x4 NumPy array with random float values. Add a border of zeros around it, resulting in a 6x6 array.\n",
    "import numpy as np\n",
    "x = np.ones((4, 4))\n",
    "print(\"Original array:\")\n",
    "print(x)\n",
    "print(\"0 on the border and 1 inside in the array\")\n",
    "x = np.pad(x, pad_width=1, mode='constant', constant_values=0)\n",
    "print(x)"
   ]
  },
  {
   "cell_type": "code",
   "execution_count": 11,
   "id": "8438e1a9-389f-4ca2-a1ce-8e51b05321bc",
   "metadata": {},
   "outputs": [
    {
     "data": {
      "text/plain": [
       "array([10, 15, 20, 25, 30, 35, 40, 45, 50, 55])"
      ]
     },
     "execution_count": 11,
     "metadata": {},
     "output_type": "execute_result"
    }
   ],
   "source": [
    "#4. Using NumPy, create an array of integers from 10 to 60 with a step of 5\n",
    "np.arange(10, 60,5)"
   ]
  },
  {
   "cell_type": "code",
   "execution_count": 13,
   "id": "f6970d6d-5a11-4168-b1a8-51e4c148c468",
   "metadata": {},
   "outputs": [],
   "source": [
    "#5. Create a NumPy array of strings ['python', 'numpy', 'pandas']. Apply different case transformations \n",
    "#(uppercase, lowercase, title case, etc.) to each element\n"
   ]
  },
  {
   "cell_type": "code",
   "execution_count": 2,
   "id": "e39de62d-84de-47ac-8c3c-91dc03f76d60",
   "metadata": {},
   "outputs": [
    {
     "name": "stdout",
     "output_type": "stream",
     "text": [
      "Original Array:\n",
      "['python' 'numpy' 'pandas']\n",
      "\n",
      "Capitalized:  ['Python' 'Numpy' 'Pandas']\n",
      "Lowered:  ['python' 'numpy' 'pandas']\n",
      "Uppered:  ['PYTHON' 'NUMPY' 'PANDAS']\n",
      "Swapcased:  ['PYTHON' 'NUMPY' 'PANDAS']\n",
      "Titlecased:  ['Python' 'Numpy' 'Pandas']\n"
     ]
    }
   ],
   "source": [
    "import numpy as np\n",
    "x = np.array(['python', 'numpy', 'pandas'])\n",
    "print(\"Original Array:\")\n",
    "print(x)\n",
    "\n",
    "capitalized_case = np.char.capitalize(x)\n",
    "lowered_case = np.char.lower(x)\n",
    "uppered_case = np.char.upper(x)\n",
    "swapcased_case = np.char.swapcase(x)\n",
    "titlecased_case = np.char.title(x)\n",
    "print(\"\\nCapitalized: \", capitalized_case)\n",
    "print(\"Lowered: \", lowered_case)\n",
    "print(\"Uppered: \", uppered_case)\n",
    "print(\"Swapcased: \", swapcased_case)\n",
    "print(\"Titlecased: \", titlecased_case) "
   ]
  },
  {
   "cell_type": "code",
   "execution_count": 3,
   "id": "25395432-07dc-45aa-a708-e8a24eb2a675",
   "metadata": {},
   "outputs": [
    {
     "name": "stdout",
     "output_type": "stream",
     "text": [
      "Original Array:\n",
      "['python exercises' 'Assignment' 'program']\n",
      "['p y t h o n   e x e r c i s e s' 'A s s i g n m e n t' 'p r o g r a m']\n"
     ]
    }
   ],
   "source": [
    "#6. Generate a NumPy array of words. Insert a space between each character of every word in the array.\n",
    "import numpy as np\n",
    "x = np.array(['python exercises', 'Assignment', 'program'])\n",
    "print(\"Original Array:\")\n",
    "print(x)\n",
    "r = np.char.join(\" \", x)\n",
    "print(r) "
   ]
  },
  {
   "cell_type": "code",
   "execution_count": 8,
   "id": "2ba4c299-ac7e-42ff-896a-5d6049a7d285",
   "metadata": {},
   "outputs": [
    {
     "name": "stdout",
     "output_type": "stream",
     "text": [
      "The Addtion is  [20 31 42 53]\n",
      "The subtraction is [20 29 38 47]\n",
      "The Multiplication is  [  0  30  80 150]\n",
      "The Division is  [        inf 30.         20.         16.66666667]\n"
     ]
    },
    {
     "name": "stderr",
     "output_type": "stream",
     "text": [
      "C:\\Users\\rvss_\\AppData\\Local\\Temp\\ipykernel_4716\\1976368685.py:11: RuntimeWarning: divide by zero encountered in divide\n",
      "  c=a/b\n"
     ]
    }
   ],
   "source": [
    "#7. Create two 2D NumPy arrays and perform element-wise addition, subtraction, multiplication, and division.\n",
    "import numpy as np\n",
    "a = np.array([ 20, 30, 40, 50])\n",
    "b=np.array([ 0, 1, 2, 3])\n",
    "c=a+b\n",
    "print(\"The Addtion is \",c)\n",
    "c=a-b\n",
    "print(\"The subtraction is\" , c)\n",
    "c=a*b\n",
    "print(\"The Multiplication is \", c)\n",
    "c=a/b\n",
    "print(\"The Division is \",c)"
   ]
  },
  {
   "cell_type": "code",
   "execution_count": 10,
   "id": "d0a4d3a3-edcb-4575-9b8b-a93d5a964ae9",
   "metadata": {},
   "outputs": [
    {
     "name": "stdout",
     "output_type": "stream",
     "text": [
      "[[1 0 0 0 0]\n",
      " [0 2 0 0 0]\n",
      " [0 0 3 0 0]\n",
      " [0 0 0 4 0]\n",
      " [0 0 0 0 5]]\n"
     ]
    },
    {
     "data": {
      "text/plain": [
       "array([1, 2, 3, 4, 5])"
      ]
     },
     "execution_count": 10,
     "metadata": {},
     "output_type": "execute_result"
    }
   ],
   "source": [
    "\n",
    "#8. Use NumPy to create a 5x5 identity matrix, then extract its diagonal elements.\n",
    "import numpy as np\n",
    "x = np.diag([1, 2, 3, 4, 5])\n",
    "print(x) \n",
    "x.diagonal()"
   ]
  },
  {
   "cell_type": "code",
   "execution_count": null,
   "id": "80e06952-5573-480a-97d7-922b183d6c1f",
   "metadata": {},
   "outputs": [],
   "source": [
    "#9.Generate a NumPy array of 100 random integers between 0 and 1000. Find and display all prime numbers in \n",
    "#this array.\n",
    "\n",
    "import random\n",
    "p = [random.randint(1, 1000) for _ in range(100)]\n",
    "flag = 0\n",
    "for num in p:\n",
    "    if num<2:\n",
    "      flag = 1\n",
    "    else:\n",
    "      for i in range(2,int((num/2)+1)):\n",
    "        if num%i==0:\n",
    "          flag = 1\n",
    "          break\n",
    "    if flag == 1:\n",
    "      print('Not Prime')\n",
    "    else:\n",
    "      print(\"Prime\")"
   ]
  },
  {
   "cell_type": "code",
   "execution_count": null,
   "id": "c12a7bba-c101-45c2-a05a-e9ec1b47809c",
   "metadata": {},
   "outputs": [],
   "source": [
    "# 10. Create a NumPy array representing daily temperatures for a month. Calculate and display the weekly \n",
    "averages\n"
   ]
  }
 ],
 "metadata": {
  "kernelspec": {
   "display_name": "Python 3 (ipykernel)",
   "language": "python",
   "name": "python3"
  },
  "language_info": {
   "codemirror_mode": {
    "name": "ipython",
    "version": 3
   },
   "file_extension": ".py",
   "mimetype": "text/x-python",
   "name": "python",
   "nbconvert_exporter": "python",
   "pygments_lexer": "ipython3",
   "version": "3.12.6"
  }
 },
 "nbformat": 4,
 "nbformat_minor": 5
}
